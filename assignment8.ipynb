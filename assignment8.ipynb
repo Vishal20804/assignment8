{
 "cells": [
  {
   "cell_type": "code",
   "execution_count": 5,
   "id": "02690bb1-4e1e-42af-b50b-a2d2694ae184",
   "metadata": {},
   "outputs": [
    {
     "name": "stdin",
     "output_type": "stream",
     "text": [
      "enter password: KIsan**781**\n"
     ]
    },
    {
     "name": "stdout",
     "output_type": "stream",
     "text": [
      "valid string\n",
      "None\n"
     ]
    }
   ],
   "source": [
    "#ans:1=\n",
    "def isvalid(password):\n",
    "    if len(password)>10:\n",
    "        lower_case=False\n",
    "        upper_case=False\n",
    "        num=False\n",
    "        special=False\n",
    "        for char in password:\n",
    "            if(char.isdigit()):\n",
    "                num=True\n",
    "            if(char.islower()):\n",
    "                lower_case=True\n",
    "            if(char.isupper()):\n",
    "                upper_case=True\n",
    "            if(char.isalnum()):\n",
    "                special=True\n",
    "        if(lower_case and upper_case and num and special):\n",
    "            print(\"valid string\")\n",
    "    else:\n",
    "        return \"invalid string\"\n",
    "            \n",
    "password=input(\"enter password:\")\n",
    "print(isvalid(password))\n"
   ]
  },
  {
   "cell_type": "code",
   "execution_count": null,
   "id": "61aa5c7b-59f9-4459-a8ca-232673d9aef6",
   "metadata": {},
   "outputs": [],
   "source": [
    "#ans:2=\n",
    "a)\n",
    "string_list = ['apple', 'banana', 'cherry', 'date', 'elderberry']\n",
    "letter = 'b'\n",
    "result = filter(lambda x: x.startswith(letter), string_list)\n",
    "print(list(result))\n",
    " \n",
    "b)\n",
    "string_list = ['123', '3.14', '-42', 'hello', '2+2']\n",
    "result = filter(lambda x: x.isnumeric(), string_list)\n",
    "print(list(result))\n",
    "\n",
    "c)\n",
    "fruit_list = [(\"mango\", 99), (\"orange\", 80), (\"grapes\", 1000)]\n",
    "result = sorted(fruit_list, key=lambda x: x[1])\n",
    "print(result)\n",
    "\n",
    "d)\n",
    "result = [x**2 for x in range(1, 11)]\n",
    "print(result)\n",
    "\n",
    "e)\n",
    "import math\n",
    "result = [math.pow(x, 1/3) for x in range(1, 11)]\n",
    "print(result)\n",
    "\n",
    "f)\n",
    "num_list = [1, 2, 3, 4, 5, 6, 7, 8, 9, 10]\n",
    "result = filter(lambda x: x % 2 == 0, num_list)\n",
    "print(list(result))\n",
    "\n",
    "g)\n",
    "num_list = [1, 2, 3, 4, 5, 6, 7, 8, 9, 10]\n",
    "result = filter(lambda x: x %\n"
   ]
  }
 ],
 "metadata": {
  "kernelspec": {
   "display_name": "Python 3 (ipykernel)",
   "language": "python",
   "name": "python3"
  },
  "language_info": {
   "codemirror_mode": {
    "name": "ipython",
    "version": 3
   },
   "file_extension": ".py",
   "mimetype": "text/x-python",
   "name": "python",
   "nbconvert_exporter": "python",
   "pygments_lexer": "ipython3",
   "version": "3.10.8"
  }
 },
 "nbformat": 4,
 "nbformat_minor": 5
}
